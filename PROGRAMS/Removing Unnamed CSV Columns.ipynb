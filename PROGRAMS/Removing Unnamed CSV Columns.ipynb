{
 "cells": [
  {
   "cell_type": "code",
   "execution_count": 6,
   "metadata": {},
   "outputs": [
    {
     "name": "stderr",
     "output_type": "stream",
     "text": [
      "C:\\Users\\pauls\\anaconda3\\lib\\site-packages\\IPython\\core\\interactiveshell.py:3063: DtypeWarning: Columns (0,2,3,4,5,6,7,8,9,10,11,12,13,14,15,16,17,18,19,20,21,22,23,24,25,26,27,28,29,30,31,32,33,34,35,36,37,38,39,40,41,42,43,44,45,46,47,48,49,50,51,52,53,54,55,56,57,58,59,60,61,62,63,64,65,66,67,68,69,70,71,72,73,74,75,76,77,78,79,80,81,82,83,84,85,86,87,88,89,90,91,92,93,94,95,96,97,98,99,100,101,102,103,104,105,106,107,108,109,110,111,112,113,114,115,116,117,118,119,120,121,122,123,124,125,126,127,128,129,130,131,132,133,134,135,136,137,138,139,140,141,142,143,144,145,146,147,148,149,150,151,152,153,154,155,156,157,158,159,160,161,162,163,164,165,166,167,168,169) have mixed types.Specify dtype option on import or set low_memory=False.\n",
      "  interactivity=interactivity, compiler=compiler, result=result)\n"
     ]
    },
    {
     "name": "stdout",
     "output_type": "stream",
     "text": [
      "       LABEL                                               TEXT\n",
      "0          0  Donald Trump just couldn t wish all Americans ...\n",
      "1          0  House Intelligence Committee Chairman Devin Nu...\n",
      "2          0  On Friday, it was revealed that former Milwauk...\n",
      "3          0  On Christmas day, Donald Trump announced that ...\n",
      "4          0  Pope Francis used his annual Christmas Day mes...\n",
      "...      ...                                                ...\n",
      "103357     0  Donald Trump and Potential Russia-West Break P...\n",
      "103358     0  Statins my disrupt vascular function On the Gr...\n",
      "103359     1  Killing Obama administration rules, dismantlin...\n",
      "103360     1  Both Donald Trump and Hillary Clinton have str...\n",
      "103361     1  There is an path for Democrats to regain the p...\n",
      "\n",
      "[103362 rows x 2 columns]\n"
     ]
    }
   ],
   "source": [
    "import pandas as pd\n",
    "df = pd.read_csv(r\"C:\\Users\\pauls\\Desktop\\FND\\LFS\\master_dataset_for_LSTM.csv\")\n",
    "\n",
    "df2 = df.drop(df.iloc[:, 2:171],axis = 1)\n",
    "df2.to_csv(r\"C:\\Users\\pauls\\Desktop\\FND\\LFS\\modified_master_dataset_for_LSTM.csv\",index=False)\n",
    "\n",
    "print(df2)\n",
    "\n"
   ]
  },
  {
   "cell_type": "code",
   "execution_count": null,
   "metadata": {},
   "outputs": [],
   "source": []
  },
  {
   "cell_type": "code",
   "execution_count": null,
   "metadata": {},
   "outputs": [],
   "source": []
  }
 ],
 "metadata": {
  "kernelspec": {
   "display_name": "Python 3",
   "language": "python",
   "name": "python3"
  },
  "language_info": {
   "codemirror_mode": {
    "name": "ipython",
    "version": 3
   },
   "file_extension": ".py",
   "mimetype": "text/x-python",
   "name": "python",
   "nbconvert_exporter": "python",
   "pygments_lexer": "ipython3",
   "version": "3.7.6"
  }
 },
 "nbformat": 4,
 "nbformat_minor": 4
}
